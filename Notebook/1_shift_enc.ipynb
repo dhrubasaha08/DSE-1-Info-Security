{
 "cells": [
  {
   "attachments": {},
   "cell_type": "markdown",
   "metadata": {},
   "source": [
    "Implement the code of encryption of shift cipher with key value = 5."
   ]
  },
  {
   "cell_type": "code",
   "execution_count": 1,
   "metadata": {},
   "outputs": [],
   "source": [
    "def main():\n",
    "    print(\"Enter plaintext: \")\n",
    "    plaintext = input()\n",
    "    key = 5\n",
    "    print(\"Encrypted text: \")\n",
    "    encrypt(plaintext, key)"
   ]
  },
  {
   "cell_type": "code",
   "execution_count": 2,
   "metadata": {},
   "outputs": [],
   "source": [
    "def encrypt(plaintext, key):\n",
    "    ciphertext = \"\"\n",
    "    for i in plaintext:\n",
    "        if i.isupper():\n",
    "            ciphertext += chr((ord(i) + int(key) - 65) % 26 + 65)\n",
    "        elif i.islower():\n",
    "            ciphertext += chr((ord(i) + int(key) - 97) % 26 + 97)\n",
    "        else:\n",
    "            ciphertext += i\n",
    "    print(ciphertext)"
   ]
  },
  {
   "cell_type": "code",
   "execution_count": 3,
   "metadata": {},
   "outputs": [
    {
     "name": "stdout",
     "output_type": "stream",
     "text": [
      "Enter plaintext: \n",
      "Encrypted text: \n",
      "FGH\n"
     ]
    }
   ],
   "source": [
    "main()"
   ]
  }
 ],
 "metadata": {
  "kernelspec": {
   "display_name": "base",
   "language": "python",
   "name": "python3"
  },
  "language_info": {
   "codemirror_mode": {
    "name": "ipython",
    "version": 3
   },
   "file_extension": ".py",
   "mimetype": "text/x-python",
   "name": "python",
   "nbconvert_exporter": "python",
   "pygments_lexer": "ipython3",
   "version": "3.9.13"
  },
  "orig_nbformat": 4,
  "vscode": {
   "interpreter": {
    "hash": "ad2bdc8ecc057115af97d19610ffacc2b4e99fae6737bb82f5d7fb13d2f2c186"
   }
  }
 },
 "nbformat": 4,
 "nbformat_minor": 2
}
