{
 "cells": [
  {
   "attachments": {},
   "cell_type": "markdown",
   "metadata": {},
   "source": [
    "BW Steganography"
   ]
  },
  {
   "cell_type": "code",
   "execution_count": 3,
   "metadata": {},
   "outputs": [
    {
     "ename": "IndexError",
     "evalue": "invalid index to scalar variable.",
     "output_type": "error",
     "traceback": [
      "\u001b[1;31m---------------------------------------------------------------------------\u001b[0m",
      "\u001b[1;31mIndexError\u001b[0m                                Traceback (most recent call last)",
      "Cell \u001b[1;32mIn[3], line 48\u001b[0m\n\u001b[0;32m     46\u001b[0m \u001b[39m# Encode the data into the image\u001b[39;00m\n\u001b[0;32m     47\u001b[0m data \u001b[39m=\u001b[39m \u001b[39m'\u001b[39m\u001b[39mHello, World!\u001b[39m\u001b[39m'\u001b[39m\n\u001b[1;32m---> 48\u001b[0m encoded_img \u001b[39m=\u001b[39m encode_image(img\u001b[39m.\u001b[39;49mcopy(), data)\n\u001b[0;32m     49\u001b[0m cv2\u001b[39m.\u001b[39mimwrite(\u001b[39m'\u001b[39m\u001b[39mBWO.png\u001b[39m\u001b[39m'\u001b[39m, encoded_img)\n\u001b[0;32m     51\u001b[0m \u001b[39m# Decode the data from the image\u001b[39;00m\n",
      "Cell \u001b[1;32mIn[3], line 22\u001b[0m, in \u001b[0;36mencode_image\u001b[1;34m(img, data)\u001b[0m\n\u001b[0;32m     20\u001b[0m \u001b[39mfor\u001b[39;00m i \u001b[39min\u001b[39;00m \u001b[39mrange\u001b[39m(\u001b[39m2\u001b[39m, \u001b[39mlen\u001b[39m(binary_data) \u001b[39m+\u001b[39m \u001b[39m2\u001b[39m):\n\u001b[0;32m     21\u001b[0m     \u001b[39mfor\u001b[39;00m j \u001b[39min\u001b[39;00m \u001b[39mrange\u001b[39m(\u001b[39m8\u001b[39m):\n\u001b[1;32m---> 22\u001b[0m         img[i][j][\u001b[39m0\u001b[39m] \u001b[39m=\u001b[39m (img[i][j][\u001b[39m0\u001b[39;49m] \u001b[39m&\u001b[39m \u001b[39m254\u001b[39m) \u001b[39m|\u001b[39m \u001b[39mint\u001b[39m(binary_data[i \u001b[39m-\u001b[39m \u001b[39m2\u001b[39m][j])\n\u001b[0;32m     24\u001b[0m \u001b[39m# Return the encoded image\u001b[39;00m\n\u001b[0;32m     25\u001b[0m \u001b[39mreturn\u001b[39;00m img\n",
      "\u001b[1;31mIndexError\u001b[0m: invalid index to scalar variable."
     ]
    }
   ],
   "source": [
    "from PIL import Image\n",
    "import numpy as np\n",
    "import matplotlib.pyplot as plt\n",
    "\n",
    "img = np.asarray(Image.open('1234.jpg'))\n",
    "plt.imshow(img, cmap='gray')\n",
    "img\n",
    "W,H,C = img.shape\n",
    "W,H,C\n",
    "message = input()\n",
    "message += '[END]'\n",
    "message = message.encode('ascii')\n",
    "message_bits = ''.join([format(i,'08b') for i in message])\n",
    "message\n",
    "message_bits\n",
    "\n",
    "img = img.flatten()\n",
    "for idx, bit in enumerate(message_bits):\n",
    "    val = img[idx]\n",
    "    val = bin(val)\n",
    "    val = val[:-1] + bit\n",
    "    img[idx] = int(val,2)\n",
    "encoded_img = img.reshape((W,H))\n",
    "\n",
    "form_img = Image.fromarray(encoded_img)\n",
    "plt.imshow(form_img, cmap='gray')\n",
    "form_img.save(\"data/1234-modified.jpg\")\n",
    "\n",
    "decode_img = encoded_img.flatten()\n",
    "\n",
    "decode_img\n",
    "\n",
    "msg = \"\"\n",
    "idx = 0\n",
    "while msg[-5:] != '[END]':\n",
    "    bits = [bin(i)[-1] for i in img[idx:idx+8]]\n",
    "    bits = ''.join(bits)\n",
    "    msg += chr(int(bits,2))\n",
    "    idx+=8\n",
    "    if idx > img.shape[0]:\n",
    "        print(\"No hidden message\")\n",
    "        break\n",
    "\n",
    "msg"
   ]
  }
 ],
 "metadata": {
  "kernelspec": {
   "display_name": "Python 3",
   "language": "python",
   "name": "python3"
  },
  "language_info": {
   "codemirror_mode": {
    "name": "ipython",
    "version": 3
   },
   "file_extension": ".py",
   "mimetype": "text/x-python",
   "name": "python",
   "nbconvert_exporter": "python",
   "pygments_lexer": "ipython3",
   "version": "3.11.2"
  },
  "orig_nbformat": 4,
  "vscode": {
   "interpreter": {
    "hash": "1e3d2864960cda1cc89e7405ec595e77e7ac30692c1b4230c1dcf8d9a5036813"
   }
  }
 },
 "nbformat": 4,
 "nbformat_minor": 2
}
