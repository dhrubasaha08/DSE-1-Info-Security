{
 "cells": [
  {
   "cell_type": "markdown",
   "metadata": {},
   "source": [
    "Implement the code of encryption of shift cipher where we can put the key value manually.Implement\n",
    "the code of encryption of row column transposition cipher."
   ]
  },
  {
   "cell_type": "markdown",
   "metadata": {},
   "source": [
    "Shift Cipher"
   ]
  },
  {
   "cell_type": "code",
   "execution_count": 1,
   "metadata": {},
   "outputs": [],
   "source": [
    "def main():\n",
    "    print(\"Enter plaintext: \")\n",
    "    plaintext = input()\n",
    "    print(\"Enter key: \")\n",
    "    key = input()\n",
    "    print(\"Encrypted text: \")\n",
    "    encrypt(plaintext, key)\n"
   ]
  },
  {
   "cell_type": "code",
   "execution_count": 2,
   "metadata": {},
   "outputs": [],
   "source": [
    "def encrypt(plaintext, key):\n",
    "    ciphertext = \"\"\n",
    "    for i in plaintext:\n",
    "        if i.isupper():\n",
    "            ciphertext += chr((ord(i) + int(key) - 65) % 26 + 65)\n",
    "        elif i.islower():\n",
    "            ciphertext += chr((ord(i) + int(key) - 97) % 26 + 97)\n",
    "        else:\n",
    "            ciphertext += i\n",
    "    print(ciphertext)"
   ]
  },
  {
   "cell_type": "code",
   "execution_count": 3,
   "metadata": {},
   "outputs": [
    {
     "name": "stdout",
     "output_type": "stream",
     "text": [
      "Enter plaintext: \n",
      "ABC\n",
      "Enter key: \n",
      "2\n",
      "Encrypted text: \n",
      "CDE\n"
     ]
    }
   ],
   "source": [
    "main()"
   ]
  },
  {
   "cell_type": "markdown",
   "metadata": {},
   "source": [
    "Row Column Transposition Cipher"
   ]
  },
  {
   "cell_type": "code",
   "execution_count": 8,
   "metadata": {},
   "outputs": [],
   "source": [
    "def main():\n",
    "    print(\"Enter plaintext: \")\n",
    "    plaintext = input()\n",
    "    print(\"Encrypted text: \")\n",
    "    encrypt(plaintext)"
   ]
  },
  {
   "cell_type": "code",
   "execution_count": 9,
   "metadata": {},
   "outputs": [],
   "source": [
    "def transpose(matrix):\n",
    "    return [list(i) for i in zip(*matrix)]"
   ]
  },
  {
   "cell_type": "code",
   "execution_count": 10,
   "metadata": {},
   "outputs": [],
   "source": [
    "def encrypt(plaintext):\n",
    "    plaintext = plaintext.replace(\" \", \"\")\n",
    "    matrix = []\n",
    "    for i in range(0, len(plaintext), 4):\n",
    "        matrix.append(list(plaintext[i:i+4]))\n",
    "    matrix = transpose(matrix)\n",
    "    ciphertext = \"\"\n",
    "    for i in matrix:\n",
    "        ciphertext += \"\".join(i)\n",
    "    print(ciphertext)\n"
   ]
  },
  {
   "cell_type": "code",
   "execution_count": 12,
   "metadata": {},
   "outputs": [
    {
     "name": "stdout",
     "output_type": "stream",
     "text": [
      "Enter plaintext: \n",
      "ABCDEFGH\n",
      "Encrypted text: \n",
      "AEBFCGDH\n"
     ]
    }
   ],
   "source": [
    "main()"
   ]
  },
  {
   "cell_type": "code",
   "execution_count": null,
   "metadata": {},
   "outputs": [],
   "source": []
  }
 ],
 "metadata": {
  "kernelspec": {
   "display_name": "Python 3 (ipykernel)",
   "language": "python",
   "name": "python3"
  },
  "language_info": {
   "codemirror_mode": {
    "name": "ipython",
    "version": 3
   },
   "file_extension": ".py",
   "mimetype": "text/x-python",
   "name": "python",
   "nbconvert_exporter": "python",
   "pygments_lexer": "ipython3",
   "version": "3.9.13"
  },
  "vscode": {
   "interpreter": {
    "hash": "ad2bdc8ecc057115af97d19610ffacc2b4e99fae6737bb82f5d7fb13d2f2c186"
   }
  }
 },
 "nbformat": 4,
 "nbformat_minor": 2
}
